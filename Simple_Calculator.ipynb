{
  "nbformat": 4,
  "nbformat_minor": 0,
  "metadata": {
    "colab": {
      "provenance": [],
      "authorship_tag": "ABX9TyOXj2uVqUv+El/2eUblScNH",
      "include_colab_link": true
    },
    "kernelspec": {
      "name": "python3",
      "display_name": "Python 3"
    },
    "language_info": {
      "name": "python"
    }
  },
  "cells": [
    {
      "cell_type": "markdown",
      "metadata": {
        "id": "view-in-github",
        "colab_type": "text"
      },
      "source": [
        "<a href=\"https://colab.research.google.com/github/fouzanhaider/Simple-Calculator/blob/main/Simple_Calculator.ipynb\" target=\"_parent\"><img src=\"https://colab.research.google.com/assets/colab-badge.svg\" alt=\"Open In Colab\"/></a>"
      ]
    },
    {
      "cell_type": "code",
      "source": [
        "import math\n",
        "\n",
        "def advanced_calculator():\n",
        "    print(\"Welcome to the Advanced Calculator!\")\n",
        "\n",
        "    while True:\n",
        "        num1 = float(input(\"Enter the first number: \"))\n",
        "        num2 = float(input(\"Enter the second number: \"))\n",
        "\n",
        "        print(\"\\nSelect the operation:\")\n",
        "        print(\"1. Addition\")\n",
        "        print(\"2. Subtraction\")\n",
        "        print(\"3. Multiplication\")\n",
        "        print(\"4. Division\")\n",
        "        print(\"5. Exponentiation (num1 ^ num2)\")\n",
        "        print(\"6. Modulus (num1 % num2)\")\n",
        "        print(\"7. Floor Division (num1 // num2)\")\n",
        "        print(\"8. Sine (sin(num1))\")\n",
        "        print(\"9. Cosine (cos(num1))\")\n",
        "        print(\"10. Tangent (tan(num1))\")\n",
        "        print(\"11. Logarithm (log(num1))\")\n",
        "\n",
        "        choice = input(\"\\nEnter the number corresponding to your choice: \")\n",
        "\n",
        "        if choice == '1':\n",
        "            result = num1 + num2\n",
        "            print(f\"\\nThe result of {num1} + {num2} is: {result}\")\n",
        "        elif choice == '2':\n",
        "            result = num1 - num2\n",
        "            print(f\"\\nThe result of {num1} - {num2} is: {result}\")\n",
        "        elif choice == '3':\n",
        "            result = num1 * num2\n",
        "            print(f\"\\nThe result of {num1} * {num2} is: {result}\")\n",
        "        elif choice == '4':\n",
        "            if num2 != 0:\n",
        "                result = num1 / num2\n",
        "                print(f\"\\nThe result of {num1} / {num2} is: {result}\")\n",
        "            else:\n",
        "                print(\"\\nError: Division by zero is not allowed.\")\n",
        "        elif choice == '5':\n",
        "            result = num1 ** num2\n",
        "            print(f\"\\nThe result of {num1} ^ {num2} is: {result}\")\n",
        "        elif choice == '6':\n",
        "            result = num1 % num2\n",
        "            print(f\"\\nThe result of {num1} % {num2} is: {result}\")\n",
        "        elif choice == '7':\n",
        "            result = num1 // num2\n",
        "            print(f\"\\nThe result of {num1} // {num2} is: {result}\")\n",
        "        elif choice == '8':\n",
        "            result = math.sin(math.radians(num1))\n",
        "            print(f\"\\nThe sine of {num1} degrees is: {result}\")\n",
        "        elif choice == '9':\n",
        "            result = math.cos(math.radians(num1))\n",
        "            print(f\"\\nThe cosine of {num1} degrees is: {result}\")\n",
        "        elif choice == '10':\n",
        "            result = math.tan(math.radians(num1))\n",
        "            print(f\"\\nThe tangent of {num1} degrees is: {result}\")\n",
        "        elif choice == '11':\n",
        "            if num1 > 0:\n",
        "                result = math.log(num1)\n",
        "                print(f\"\\nThe natural logarithm of {num1} is: {result}\")\n",
        "            else:\n",
        "                print(\"\\nError: Logarithm of non-positive number is not allowed.\")\n",
        "        else:\n",
        "            print(\"\\nInvalid choice. Please select a valid operation.\")\n",
        "\n",
        "        cont = input(\"\\nDo you want to perform another operation? (yes/no): \")\n",
        "        if cont.lower() != 'yes':\n",
        "            print(\"\\nThank you for using the Calculator!\")\n",
        "            break\n",
        "\n",
        "advanced_calculator()\n"
      ],
      "metadata": {
        "colab": {
          "base_uri": "https://localhost:8080/"
        },
        "id": "BtxWzhwnslwm",
        "outputId": "25f32e68-1ec4-47a0-9cb7-ba55848245a5"
      },
      "execution_count": 1,
      "outputs": [
        {
          "output_type": "stream",
          "name": "stdout",
          "text": [
            "Welcome to the Advanced Calculator!\n",
            "Enter the first number: 4\n",
            "Enter the second number: 8\n",
            "\n",
            "Select the operation:\n",
            "1. Addition\n",
            "2. Subtraction\n",
            "3. Multiplication\n",
            "4. Division\n",
            "5. Exponentiation (num1 ^ num2)\n",
            "6. Modulus (num1 % num2)\n",
            "7. Floor Division (num1 // num2)\n",
            "8. Sine (sin(num1))\n",
            "9. Cosine (cos(num1))\n",
            "10. Tangent (tan(num1))\n",
            "11. Logarithm (log(num1))\n",
            "\n",
            "Enter the number corresponding to your choice: 4\n",
            "\n",
            "The result of 4.0 / 8.0 is: 0.5\n",
            "\n",
            "Do you want to perform another operation? (yes/no): yes\n",
            "Enter the first number: 8\n",
            "Enter the second number: 4\n",
            "\n",
            "Select the operation:\n",
            "1. Addition\n",
            "2. Subtraction\n",
            "3. Multiplication\n",
            "4. Division\n",
            "5. Exponentiation (num1 ^ num2)\n",
            "6. Modulus (num1 % num2)\n",
            "7. Floor Division (num1 // num2)\n",
            "8. Sine (sin(num1))\n",
            "9. Cosine (cos(num1))\n",
            "10. Tangent (tan(num1))\n",
            "11. Logarithm (log(num1))\n",
            "\n",
            "Enter the number corresponding to your choice: 3\n",
            "\n",
            "The result of 8.0 * 4.0 is: 32.0\n",
            "\n",
            "Do you want to perform another operation? (yes/no): no\n",
            "\n",
            "Thank you for using the Calculator!\n"
          ]
        }
      ]
    }
  ]
}